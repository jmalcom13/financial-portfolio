{
 "cells": [
  {
   "cell_type": "code",
   "execution_count": 1,
   "metadata": {},
   "outputs": [],
   "source": [
    "import numpy as np\n",
    "import pandas as pd\n",
    "from pandas_datareader import data as wb\n",
    "import matplotlib.pyplot as plt\n",
    "plt.style.use('seaborn-pastel')\n",
    "from datetime import datetime"
   ]
  },
  {
   "cell_type": "code",
   "execution_count": 2,
   "metadata": {},
   "outputs": [],
   "source": [
    "# Define start and end date for the financial data\n",
    "today = datetime.today().strftime('%Y-%m-%d')\n",
    "startDate = '2017-1-1'"
   ]
  },
  {
   "cell_type": "code",
   "execution_count": 3,
   "metadata": {},
   "outputs": [],
   "source": [
    "# Pull financial data from yahoo finance for each company ticker and populate dataframe equityPrices.\n",
    "equities = ['ATVI','AMD','KO','LULU','POR']\n",
    "equityPrices = pd.DataFrame()\n",
    "\n",
    "for e in equities:\n",
    "    equityPrices[e] = wb.DataReader(e,data_source='yahoo',start=startDate,end=today)['Adj Close']"
   ]
  },
  {
   "cell_type": "code",
   "execution_count": 4,
   "metadata": {},
   "outputs": [
    {
     "data": {
      "text/html": [
       "<div>\n",
       "<style scoped>\n",
       "    .dataframe tbody tr th:only-of-type {\n",
       "        vertical-align: middle;\n",
       "    }\n",
       "\n",
       "    .dataframe tbody tr th {\n",
       "        vertical-align: top;\n",
       "    }\n",
       "\n",
       "    .dataframe thead th {\n",
       "        text-align: right;\n",
       "    }\n",
       "</style>\n",
       "<table border=\"1\" class=\"dataframe\">\n",
       "  <thead>\n",
       "    <tr style=\"text-align: right;\">\n",
       "      <th></th>\n",
       "      <th>ATVI</th>\n",
       "      <th>AMD</th>\n",
       "      <th>KO</th>\n",
       "      <th>LULU</th>\n",
       "      <th>POR</th>\n",
       "    </tr>\n",
       "    <tr>\n",
       "      <th>Date</th>\n",
       "      <th></th>\n",
       "      <th></th>\n",
       "      <th></th>\n",
       "      <th></th>\n",
       "      <th></th>\n",
       "    </tr>\n",
       "  </thead>\n",
       "  <tbody>\n",
       "    <tr>\n",
       "      <th>2020-05-08</th>\n",
       "      <td>73.139999</td>\n",
       "      <td>53.189999</td>\n",
       "      <td>46.110001</td>\n",
       "      <td>237.990005</td>\n",
       "      <td>45.310001</td>\n",
       "    </tr>\n",
       "    <tr>\n",
       "      <th>2020-05-11</th>\n",
       "      <td>75.459999</td>\n",
       "      <td>55.740002</td>\n",
       "      <td>45.540001</td>\n",
       "      <td>245.619995</td>\n",
       "      <td>45.009998</td>\n",
       "    </tr>\n",
       "    <tr>\n",
       "      <th>2020-05-12</th>\n",
       "      <td>72.250000</td>\n",
       "      <td>53.759998</td>\n",
       "      <td>44.820000</td>\n",
       "      <td>242.600006</td>\n",
       "      <td>42.849998</td>\n",
       "    </tr>\n",
       "    <tr>\n",
       "      <th>2020-05-13</th>\n",
       "      <td>73.669998</td>\n",
       "      <td>52.180000</td>\n",
       "      <td>43.939999</td>\n",
       "      <td>229.389999</td>\n",
       "      <td>41.430000</td>\n",
       "    </tr>\n",
       "    <tr>\n",
       "      <th>2020-05-14</th>\n",
       "      <td>71.970001</td>\n",
       "      <td>53.055000</td>\n",
       "      <td>43.805000</td>\n",
       "      <td>233.470001</td>\n",
       "      <td>40.619999</td>\n",
       "    </tr>\n",
       "  </tbody>\n",
       "</table>\n",
       "</div>"
      ],
      "text/plain": [
       "                 ATVI        AMD         KO        LULU        POR\n",
       "Date                                                              \n",
       "2020-05-08  73.139999  53.189999  46.110001  237.990005  45.310001\n",
       "2020-05-11  75.459999  55.740002  45.540001  245.619995  45.009998\n",
       "2020-05-12  72.250000  53.759998  44.820000  242.600006  42.849998\n",
       "2020-05-13  73.669998  52.180000  43.939999  229.389999  41.430000\n",
       "2020-05-14  71.970001  53.055000  43.805000  233.470001  40.619999"
      ]
     },
     "execution_count": 4,
     "metadata": {},
     "output_type": "execute_result"
    }
   ],
   "source": [
    "equityPrices.tail()"
   ]
  },
  {
   "cell_type": "markdown",
   "metadata": {},
   "source": [
    "# Visualize Stock Performance"
   ]
  },
  {
   "cell_type": "code",
   "execution_count": null,
   "metadata": {
    "scrolled": true
   },
   "outputs": [],
   "source": [
    "# Visualize normalized equity prices\n",
    "normalizedPrice = ((equityPrices/equityPrices.iloc[0]) *100)"
   ]
  },
  {
   "cell_type": "code",
   "execution_count": null,
   "metadata": {},
   "outputs": [],
   "source": [
    "# Define graph elements and create graph of stock prices, normalized to $100.\n",
    "normalizedPrice.plot(figsize=(15,6))\n",
    "plt.title('Normalized Equity Prices', fontsize = 24)\n",
    "plt.xlabel('Date',fontsize = 18)\n",
    "plt.ylabel('Performance',fontsize = 18)\n",
    "plt.legend(loc='upper left')\n",
    "# Plot the graph with all of the defined features above\n",
    "plt.show()"
   ]
  },
  {
   "cell_type": "code",
   "execution_count": null,
   "metadata": {
    "scrolled": false
   },
   "outputs": [],
   "source": [
    "# Visualize equity performance over time\n",
    "equityPrices.plot(figsize=(15,6))\n",
    "plt.title(\"Adj. Close Equity Price History\",fontsize=24)\n",
    "plt.xlabel('Date', size=18)\n",
    "plt.ylabel('Adj. Close Price USD ($)',fontsize=18)\n",
    "plt.legend(loc='upper left')\n",
    "plt.show()"
   ]
  },
  {
   "cell_type": "markdown",
   "metadata": {},
   "source": [
    "# Create and Rank Portfolios"
   ]
  },
  {
   "cell_type": "code",
   "execution_count": null,
   "metadata": {},
   "outputs": [],
   "source": [
    "# Define dailyReturns (log returns) and standardDeviation for each equity. rf is risk free rate used to find annual excessReturns\n",
    "rf = 0.01\n",
    "dailyReturns = np.log(1 + equityPrices.pct_change())\n",
    "excessReturns = dailyReturns.mean()*252 - rf\n",
    "standardDeviation = dailyReturns.std() * np.sqrt(252)"
   ]
  },
  {
   "cell_type": "code",
   "execution_count": null,
   "metadata": {},
   "outputs": [],
   "source": [
    "# Build covariance matrix that maps the relationship between two equities.  The diagonal left to right is each equity's variance.\n",
    "covMatrix = dailyReturns.cov() * 252"
   ]
  },
  {
   "cell_type": "code",
   "execution_count": null,
   "metadata": {
    "scrolled": true
   },
   "outputs": [],
   "source": [
    "numEquities = len(equities)"
   ]
  },
  {
   "cell_type": "code",
   "execution_count": null,
   "metadata": {},
   "outputs": [],
   "source": [
    "# Create possible portfolios and store each portfolio's return and risk (standard deviation) in two lists\n",
    "portfolioReturns = []\n",
    "portfolioRisk = []"
   ]
  },
  {
   "cell_type": "code",
   "execution_count": null,
   "metadata": {},
   "outputs": [],
   "source": [
    "# weightsDictonary stores the weights that are generated to create portfolios.  WeightsList is a list of the key names of weightDictonary\n",
    "weightsDictonary = {}\n",
    "for e in equities:\n",
    "    weightsDictonary[str(e) + '_weight'] = []\n",
    "weightsList = list(weightsDictonary)"
   ]
  },
  {
   "cell_type": "code",
   "execution_count": null,
   "metadata": {},
   "outputs": [],
   "source": [
    "# Append the return and risk for portfolio with randomly generated weights assigned to each equity.\n",
    "for x in range(1000):\n",
    "    weights = np.random.random(numEquities)\n",
    "    weights /= np.sum(weights)\n",
    "    portfolioReturns.append(np.sum(weights * excessReturns))\n",
    "    portfolioRisk.append(np.sqrt(np.dot(weights.T,np.dot(covMatrix,weights))))\n",
    "# For reach iteration store the randomly generated weights as values in weightsDictionary    \n",
    "    for w in range(len(weights)):\n",
    "        weightsDictonary[weightsList[w]].append(weights[w])"
   ]
  },
  {
   "cell_type": "code",
   "execution_count": null,
   "metadata": {},
   "outputs": [],
   "source": [
    "# Change into to numpy array\n",
    "portfolioReturns = np.array(portfolioReturns)\n",
    "portfolioRisk = np.array(portfolioRisk)\n",
    "\n",
    "for i in range(len(weightsDictonary)):\n",
    "    weightsDictonary[weightsList[i]] = np.array(weightsDictonary[weightsList[i]])"
   ]
  },
  {
   "cell_type": "code",
   "execution_count": null,
   "metadata": {
    "scrolled": true
   },
   "outputs": [],
   "source": [
    "# Populate dataframe with Return and Risk for each portfolio along with its respective weights for each equity.\n",
    "portfolios = pd.DataFrame({**{'Risk_Premium':portfolioReturns,'Standard_Deviation':portfolioRisk},**weightsDictonary})\n",
    "portfolios.eval('Sharpe_Ratio=Risk_Premium/Standard_Deviation',inplace = True)\n",
    "firstColumn = portfolios.pop('Sharpe_Ratio')\n",
    "portfolios.insert(0,'Sharpe_Ratio',firstColumn)"
   ]
  },
  {
   "cell_type": "code",
   "execution_count": null,
   "metadata": {
    "scrolled": true
   },
   "outputs": [],
   "source": [
    "# Sort portfolios by Sharpe_Ratio descending. Puts the optimal portfolio in the set at the top of data frame\n",
    "portfolios.sort_values(by='Sharpe_Ratio',ascending=False)"
   ]
  },
  {
   "cell_type": "code",
   "execution_count": null,
   "metadata": {},
   "outputs": [],
   "source": [
    "# Assign index of optimal portfolio to variable to plot on a graph.\n",
    "optimalPortfolio = int(portfolios.idxmax('index')['Sharpe_Ratio'])"
   ]
  },
  {
   "cell_type": "code",
   "execution_count": null,
   "metadata": {},
   "outputs": [],
   "source": [
    "# Plot all of the portfolios to visualize the efficient frontier. Mark the optimal portfolio with a red x along efficient frontier \n",
    "plt.figure(figsize=(20,8))\n",
    "optimalX = portfolios.iloc[optimalPortfolio].loc['Standard_Deviation']\n",
    "optimalY = portfolios.iloc[optimalPortfolio].loc['Risk_Premium']\n",
    "portfolioScatter = plt.scatter(portfolioRisk,portfolioReturns)\n",
    "optimalPoint = plt.scatter(optimalX,optimalY,s=100,marker='x',color='red')\n",
    "plt.title('Efficient Frontier',fontsize = 24)\n",
    "plt.xlabel('Standard Deviation',fontsize = 18)\n",
    "plt.ylabel('Return',fontsize=18)\n",
    "plt.legend((portfolioScatter,optimalPoint),('Portfolios','Optimal Portfolio'),loc='upper left')\n",
    "plt.show()"
   ]
  }
 ],
 "metadata": {
  "kernelspec": {
   "display_name": "Python 3",
   "language": "python",
   "name": "python3"
  },
  "language_info": {
   "codemirror_mode": {
    "name": "ipython",
    "version": 3
   },
   "file_extension": ".py",
   "mimetype": "text/x-python",
   "name": "python",
   "nbconvert_exporter": "python",
   "pygments_lexer": "ipython3",
   "version": "3.7.6"
  }
 },
 "nbformat": 4,
 "nbformat_minor": 2
}
