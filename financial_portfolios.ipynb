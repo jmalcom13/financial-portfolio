{
 "cells": [
  {
   "cell_type": "code",
   "execution_count": null,
   "metadata": {},
   "outputs": [],
   "source": [
    "import numpy as np\n",
    "import pandas as pd\n",
    "from pandas_datareader import data as wb\n",
    "from datetime import datetime\n",
    "from ipynb.fs.full.financial_graphs import price_hist as price_graph\n",
    "from ipynb.fs.full.financial_graphs import normalized_graph as n_graph\n",
    "from ipynb.fs.full.financial_graphs import eff_frontier as eff\n",
    "from ipynb.fs.full.generate_portfolios import generatePortfolios as generate"
   ]
  },
  {
   "cell_type": "code",
   "execution_count": null,
   "metadata": {},
   "outputs": [],
   "source": [
    "# Set start and end date for the financial data\n",
    "today = datetime.today().strftime('%Y-%m-%d')\n",
    "startDate = '2017-1-1'"
   ]
  },
  {
   "cell_type": "code",
   "execution_count": null,
   "metadata": {
    "scrolled": false
   },
   "outputs": [],
   "source": [
    "# Select tickers\n",
    "equities = ['AMZN','LULU']\n",
    "equityPrices = pd.DataFrame()\n",
    "\n",
    "for e in equities:\n",
    "    equityPrices[e] = wb.DataReader(e,data_source='yahoo',start=startDate,end=today)['Adj Close']\n",
    "    \n",
    "# Call graph functions\n",
    "price_graph(equityPrices), n_graph(equityPrices)"
   ]
  },
  {
   "cell_type": "code",
   "execution_count": null,
   "metadata": {},
   "outputs": [],
   "source": [
    "# Calculate returns (log returns) and volatility/risk (standard deviation) for each equity. Set risk-free rate\n",
    "rf = 0.01\n",
    "dailyReturns = np.log(1 + equityPrices.pct_change())\n",
    "excessReturns = dailyReturns.mean()*252 - rf\n",
    "standardDeviation = dailyReturns.std() * np.sqrt(252)\n",
    "\n",
    "\n",
    "# Build covariance matrix to show relationships between equities.  Left to right diagonal is equity's variance.\n",
    "covMatrix = dailyReturns.cov() * 252\n",
    "numEquities = len(equities)\n",
    "\n",
    "# Call generatePortfolios\n",
    "returns,risk,weights = generate(excessReturns, standardDeviation,covMatrix,equities)"
   ]
  },
  {
   "cell_type": "code",
   "execution_count": null,
   "metadata": {
    "scrolled": true
   },
   "outputs": [],
   "source": [
    "# Populate dataframe with return and risk for each portfolio along with its respective weights for each equity.\n",
    "portfolios = pd.DataFrame({**{'Risk_Premium':returns,'Standard_Deviation':risk},**weights})\n",
    "portfolios.eval('Sharpe_Ratio=Risk_Premium/Standard_Deviation',inplace = True)\n",
    "firstColumn = portfolios.pop('Sharpe_Ratio')\n",
    "portfolios.insert(0,'Sharpe_Ratio',firstColumn)"
   ]
  },
  {
   "cell_type": "code",
   "execution_count": null,
   "metadata": {
    "scrolled": false
   },
   "outputs": [],
   "source": [
    "# Sort portfolios by Sharpe_Ratio descending. Puts the optimal portfolio of the set at the top of the data frame\n",
    "portfolios.sort_values(by='Sharpe_Ratio',ascending=False)"
   ]
  },
  {
   "cell_type": "code",
   "execution_count": null,
   "metadata": {
    "scrolled": false
   },
   "outputs": [],
   "source": [
    "# Assign index of optimal portfolio to variable to plot on a graph.\n",
    "optimalPortfolio = int(portfolios.idxmax('index')['Sharpe_Ratio'])\n",
    "\n",
    "# Call function to graph efficient frontier\n",
    "eff(portfolios,optimalPortfolio,risk,returns)"
   ]
  },
  {
   "cell_type": "code",
   "execution_count": null,
   "metadata": {},
   "outputs": [],
   "source": []
  }
 ],
 "metadata": {
  "kernelspec": {
   "display_name": "Python 3",
   "language": "python",
   "name": "python3"
  },
  "language_info": {
   "codemirror_mode": {
    "name": "ipython",
    "version": 3
   },
   "file_extension": ".py",
   "mimetype": "text/x-python",
   "name": "python",
   "nbconvert_exporter": "python",
   "pygments_lexer": "ipython3",
   "version": "3.7.6"
  }
 },
 "nbformat": 4,
 "nbformat_minor": 2
}
