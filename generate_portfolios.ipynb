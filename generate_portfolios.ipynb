{
 "cells": [
  {
   "cell_type": "code",
   "execution_count": 1,
   "metadata": {},
   "outputs": [],
   "source": [
    "import numpy as np\n",
    "import pandas as pd\n",
    "from pandas_datareader import data as wb\n",
    "import matplotlib.pyplot as plt\n",
    "plt.style.use('seaborn-pastel')\n",
    "from datetime import datetime"
   ]
  },
  {
   "cell_type": "code",
   "execution_count": null,
   "metadata": {},
   "outputs": [],
   "source": [
    "def generatePortfolios(returns, std, cov, equities):\n",
    "    \n",
    "    numEquities = len(equities)\n",
    "    \n",
    "# Create possible portfolios and store each portfolio's return and risk (standard deviation) in two lists\n",
    "\n",
    "    portfolioReturns = []\n",
    "    portfolioRisk = []\n",
    "    \n",
    "# weightsDictonary stores the weights that are generated to create portfolios.\n",
    "    weightsDictonary = {}\n",
    "    \n",
    "    for e in equities:\n",
    "        weightsDictonary[str(e) + '_weight'] = []\n",
    "    \n",
    "    weightsList = list(weightsDictonary)\n",
    "\n",
    "# Append the return and risk for portfolio with randomly generated weights assigned to each equity.\n",
    "\n",
    "    for x in range(1000):\n",
    "        weights = np.random.random(numEquities)\n",
    "        weights /= np.sum(weights)\n",
    "        portfolioReturns.append(np.sum(weights * returns))\n",
    "        portfolioRisk.append(np.sqrt(np.dot(weights.T,np.dot(cov,weights))))\n",
    "\n",
    "    # For each generated portfolio store the randomly generated weights as values in weightsDictionary\n",
    "\n",
    "        for w in range(len(weights)):\n",
    "            weightsDictonary[weightsList[w]].append(weights[w])\n",
    "# Change into to numpy array\n",
    "    portfolioReturns = np.array(portfolioReturns)\n",
    "    portfolioRisk = np.array(portfolioRisk)\n",
    "\n",
    "    for i in range(len(weightsDictonary)):\n",
    "        weightsDictonary[weightsList[i]] = np.array(weightsDictonary[weightsList[i]])\n",
    "        \n",
    "    return portfolioReturns,portfolioRisk,weightsDictonary"
   ]
  }
 ],
 "metadata": {
  "kernelspec": {
   "display_name": "Python 3",
   "language": "python",
   "name": "python3"
  },
  "language_info": {
   "codemirror_mode": {
    "name": "ipython",
    "version": 3
   },
   "file_extension": ".py",
   "mimetype": "text/x-python",
   "name": "python",
   "nbconvert_exporter": "python",
   "pygments_lexer": "ipython3",
   "version": "3.7.6"
  }
 },
 "nbformat": 4,
 "nbformat_minor": 4
}
