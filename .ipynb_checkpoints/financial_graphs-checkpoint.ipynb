{
 "cells": [
  {
   "cell_type": "code",
   "execution_count": 1,
   "metadata": {},
   "outputs": [],
   "source": [
    "import numpy as np\n",
    "import pandas as pd\n",
    "import matplotlib.pyplot as plt\n",
    "plt.style.use('seaborn-pastel')"
   ]
  },
  {
   "cell_type": "code",
   "execution_count": 2,
   "metadata": {},
   "outputs": [],
   "source": [
    "# Graph stock performance over time normalized to $100 at the startDate.\n",
    "def normalizedEquitiesGraph(stocks):\n",
    "    \n",
    "    normalizedPrice = ((stocks/stocks.iloc[0]) *100)\n",
    "    normalizedPrice.plot(figsize=(15,6))\n",
    "    \n",
    "    plt.title('Normalized Equity Prices (to 100)', fontsize = 24)\n",
    "    plt.xlabel('Date',fontsize = 18)\n",
    "    plt.ylabel('Performance',fontsize = 18)\n",
    "    plt.legend(loc='upper left')\n",
    "    plt.show()"
   ]
  },
  {
   "cell_type": "code",
   "execution_count": 3,
   "metadata": {},
   "outputs": [],
   "source": [
    "# Visualize stock performance over time\n",
    "def equitiesPriceHistoryGraph(stocks):\n",
    "    \n",
    "    stocks.plot(figsize=(15,6))\n",
    "    plt.title(\"Adj. Close Equity Price History\",fontsize=24)\n",
    "    plt.xlabel('Date', size=18)\n",
    "    plt.ylabel('Adj. Close Price USD ($)',fontsize=18)\n",
    "    plt.legend(loc='upper left')\n",
    "    plt.show()"
   ]
  },
  {
   "cell_type": "code",
   "execution_count": 4,
   "metadata": {},
   "outputs": [],
   "source": [
    "# Plot the efficient frontier.  Mark the optimal portfolio with a red x.\n",
    "def efficientFrontierGraph(portfolios,optimalPortfolio,portfolioRisk,portfolioReturns):\n",
    "    \n",
    "    plt.figure(figsize=(20,8))\n",
    "    \n",
    "    optimalX = portfolios.iloc[optimalPortfolio].loc['Standard_Deviation']\n",
    "    optimalY = portfolios.iloc[optimalPortfolio].loc['Risk_Premium']\n",
    "    \n",
    "    portfolioScatter = plt.scatter(portfolioRisk,portfolioReturns)\n",
    "    optimalPoint = plt.scatter(optimalX,optimalY,s=100,marker='x',color='red')\n",
    "    \n",
    "    plt.title('Efficient Frontier',fontsize = 24)\n",
    "    plt.xlabel('Standard Deviation',fontsize = 18)\n",
    "    plt.ylabel('Return',fontsize=18)\n",
    "    plt.legend((portfolioScatter,optimalPoint),('Portfolios','Optimal Portfolio'),loc='upper left')\n",
    "    plt.show()"
   ]
  },
  {
   "cell_type": "code",
   "execution_count": null,
   "metadata": {},
   "outputs": [],
   "source": []
  }
 ],
 "metadata": {
  "kernelspec": {
   "display_name": "Python 3",
   "language": "python",
   "name": "python3"
  },
  "language_info": {
   "codemirror_mode": {
    "name": "ipython",
    "version": 3
   },
   "file_extension": ".py",
   "mimetype": "text/x-python",
   "name": "python",
   "nbconvert_exporter": "python",
   "pygments_lexer": "ipython3",
   "version": "3.7.6"
  }
 },
 "nbformat": 4,
 "nbformat_minor": 4
}
